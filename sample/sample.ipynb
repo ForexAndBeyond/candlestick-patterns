{
 "cells": [
  {
   "cell_type": "code",
   "execution_count": null,
   "metadata": {},
   "outputs": [],
   "source": [
    "import pandas as pd\n",
    "from candlestick import candlestick\n",
    "df = pd.read_csv('EURUSD_M1_2018.csv', header=0, names=['time','Date2','open','high','low','close','volume'])\n",
    "df"
   ]
  },
  {
   "cell_type": "code",
   "execution_count": null,
   "metadata": {},
   "outputs": [],
   "source": [
    "df = df.head(100)\n",
    "\n",
    "target = 'bearish_engulfing'\n",
    "candles_df = candlestick.bearish_engulfing(df, target=target)\n",
    "candles_df[candles_df['bearish_engulfing'] == True]"
   ]
  }
 ],
 "metadata": {
  "kernelspec": {
   "display_name": "forextradingsystem",
   "language": "python",
   "name": "python3"
  },
  "language_info": {
   "name": "python",
   "version": "3.7.11"
  },
  "orig_nbformat": 4,
  "vscode": {
   "interpreter": {
    "hash": "3452a29ac87e3f702b358dd33b869f0a1a4781b3b1aa392e678b148b301586c9"
   }
  }
 },
 "nbformat": 4,
 "nbformat_minor": 2
}

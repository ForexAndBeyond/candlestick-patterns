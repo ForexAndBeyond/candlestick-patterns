{
 "cells": [
  {
   "cell_type": "code",
   "execution_count": 1,
   "metadata": {},
   "outputs": [
    {
     "ename": "ModuleNotFoundError",
     "evalue": "No module named 'candlestick'",
     "output_type": "error",
     "traceback": [
      "\u001b[0;31m---------------------------------------------------------------------------\u001b[0m",
      "\u001b[0;31mModuleNotFoundError\u001b[0m                       Traceback (most recent call last)",
      "\u001b[0;32m/var/folders/9t/c4zjd92j3tscx9g18y2vmrdc0000gn/T/ipykernel_52265/2440241900.py\u001b[0m in \u001b[0;36m<module>\u001b[0;34m\u001b[0m\n\u001b[1;32m      1\u001b[0m \u001b[0;32mimport\u001b[0m \u001b[0mpandas\u001b[0m \u001b[0;32mas\u001b[0m \u001b[0mpd\u001b[0m\u001b[0;34m\u001b[0m\u001b[0;34m\u001b[0m\u001b[0m\n\u001b[0;32m----> 2\u001b[0;31m \u001b[0;32mfrom\u001b[0m \u001b[0mcandlestick\u001b[0m \u001b[0;32mimport\u001b[0m \u001b[0mcandlestick\u001b[0m\u001b[0;34m\u001b[0m\u001b[0;34m\u001b[0m\u001b[0m\n\u001b[0m\u001b[1;32m      3\u001b[0m \u001b[0mdf\u001b[0m \u001b[0;34m=\u001b[0m \u001b[0mpd\u001b[0m\u001b[0;34m.\u001b[0m\u001b[0mread_csv\u001b[0m\u001b[0;34m(\u001b[0m\u001b[0;34m'EURUSD_M1_2018.csv'\u001b[0m\u001b[0;34m,\u001b[0m \u001b[0mheader\u001b[0m\u001b[0;34m=\u001b[0m\u001b[0;36m0\u001b[0m\u001b[0;34m,\u001b[0m \u001b[0mnames\u001b[0m\u001b[0;34m=\u001b[0m\u001b[0;34m[\u001b[0m\u001b[0;34m'time'\u001b[0m\u001b[0;34m,\u001b[0m\u001b[0;34m'Date2'\u001b[0m\u001b[0;34m,\u001b[0m\u001b[0;34m'open'\u001b[0m\u001b[0;34m,\u001b[0m\u001b[0;34m'high'\u001b[0m\u001b[0;34m,\u001b[0m\u001b[0;34m'low'\u001b[0m\u001b[0;34m,\u001b[0m\u001b[0;34m'close'\u001b[0m\u001b[0;34m,\u001b[0m\u001b[0;34m'volume'\u001b[0m\u001b[0;34m]\u001b[0m\u001b[0;34m)\u001b[0m\u001b[0;34m\u001b[0m\u001b[0;34m\u001b[0m\u001b[0m\n\u001b[1;32m      4\u001b[0m \u001b[0mdf\u001b[0m\u001b[0;34m\u001b[0m\u001b[0;34m\u001b[0m\u001b[0m\n",
      "\u001b[0;31mModuleNotFoundError\u001b[0m: No module named 'candlestick'"
     ]
    }
   ],
   "source": [
    "import pandas as pd\n",
    "from candlestick import candlestick\n",
    "df = pd.read_csv('EURUSD_M1_2018.csv', header=0, names=['time','Date2','open','high','low','close','volume'])\n",
    "df"
   ]
  },
  {
   "cell_type": "code",
   "execution_count": 12,
   "metadata": {},
   "outputs": [
    {
     "data": {
      "text/html": [
       "<div>\n",
       "<style scoped>\n",
       "    .dataframe tbody tr th:only-of-type {\n",
       "        vertical-align: middle;\n",
       "    }\n",
       "\n",
       "    .dataframe tbody tr th {\n",
       "        vertical-align: top;\n",
       "    }\n",
       "\n",
       "    .dataframe thead th {\n",
       "        text-align: right;\n",
       "    }\n",
       "</style>\n",
       "<table border=\"1\" class=\"dataframe\">\n",
       "  <thead>\n",
       "    <tr style=\"text-align: right;\">\n",
       "      <th></th>\n",
       "      <th>time</th>\n",
       "      <th>Date2</th>\n",
       "      <th>open</th>\n",
       "      <th>high</th>\n",
       "      <th>low</th>\n",
       "      <th>close</th>\n",
       "      <th>volume</th>\n",
       "      <th>bearish_engulfing</th>\n",
       "    </tr>\n",
       "  </thead>\n",
       "  <tbody>\n",
       "    <tr>\n",
       "      <th>10</th>\n",
       "      <td>2018.01.01</td>\n",
       "      <td>17:10</td>\n",
       "      <td>1.20094</td>\n",
       "      <td>1.20095</td>\n",
       "      <td>1.20076</td>\n",
       "      <td>1.20077</td>\n",
       "      <td>0</td>\n",
       "      <td>True</td>\n",
       "    </tr>\n",
       "    <tr>\n",
       "      <th>12</th>\n",
       "      <td>2018.01.01</td>\n",
       "      <td>17:12</td>\n",
       "      <td>1.20088</td>\n",
       "      <td>1.20088</td>\n",
       "      <td>1.20079</td>\n",
       "      <td>1.20079</td>\n",
       "      <td>0</td>\n",
       "      <td>True</td>\n",
       "    </tr>\n",
       "    <tr>\n",
       "      <th>67</th>\n",
       "      <td>2018.01.01</td>\n",
       "      <td>18:08</td>\n",
       "      <td>1.20091</td>\n",
       "      <td>1.20092</td>\n",
       "      <td>1.20074</td>\n",
       "      <td>1.20077</td>\n",
       "      <td>0</td>\n",
       "      <td>True</td>\n",
       "    </tr>\n",
       "    <tr>\n",
       "      <th>99</th>\n",
       "      <td>2018.01.01</td>\n",
       "      <td>18:40</td>\n",
       "      <td>1.20120</td>\n",
       "      <td>1.20120</td>\n",
       "      <td>1.20112</td>\n",
       "      <td>1.20116</td>\n",
       "      <td>0</td>\n",
       "      <td>True</td>\n",
       "    </tr>\n",
       "  </tbody>\n",
       "</table>\n",
       "</div>"
      ],
      "text/plain": [
       "          time  Date2     open     high      low    close  volume  \\\n",
       "10  2018.01.01  17:10  1.20094  1.20095  1.20076  1.20077       0   \n",
       "12  2018.01.01  17:12  1.20088  1.20088  1.20079  1.20079       0   \n",
       "67  2018.01.01  18:08  1.20091  1.20092  1.20074  1.20077       0   \n",
       "99  2018.01.01  18:40  1.20120  1.20120  1.20112  1.20116       0   \n",
       "\n",
       "   bearish_engulfing  \n",
       "10              True  \n",
       "12              True  \n",
       "67              True  \n",
       "99              True  "
      ]
     },
     "execution_count": 12,
     "metadata": {},
     "output_type": "execute_result"
    }
   ],
   "source": [
    "df = df.head(100)\n",
    "\n",
    "target = 'bearish_engulfing'\n",
    "candles_df = candlestick.bearish_engulfing(df, target=target)\n",
    "candles_df[candles_df['bearish_engulfing'] == True]"
   ]
  }
 ],
 "metadata": {
  "kernelspec": {
   "display_name": "forextradingsystem",
   "language": "python",
   "name": "python3"
  },
  "language_info": {
   "codemirror_mode": {
    "name": "ipython",
    "version": 3
   },
   "file_extension": ".py",
   "mimetype": "text/x-python",
   "name": "python",
   "nbconvert_exporter": "python",
   "pygments_lexer": "ipython3",
   "version": "3.7.11"
  },
  "orig_nbformat": 4,
  "vscode": {
   "interpreter": {
    "hash": "3452a29ac87e3f702b358dd33b869f0a1a4781b3b1aa392e678b148b301586c9"
   }
  }
 },
 "nbformat": 4,
 "nbformat_minor": 2
}
